{
 "cells": [
  {
   "cell_type": "code",
   "execution_count": null,
   "id": "f380c18f-e9d2-47f6-97ec-f35d6fb675d1",
   "metadata": {},
   "outputs": [],
   "source": [
    "!pip install pandas\n",
    "!pip install matplotlib"
   ]
  },
  {
   "cell_type": "code",
   "execution_count": 1,
   "id": "1f8b880a-6887-4830-b0be-9dc012c9cfc0",
   "metadata": {},
   "outputs": [
    {
     "name": "stderr",
     "output_type": "stream",
     "text": [
      "2025-08-11 16:44:40.658835: I tensorflow/core/platform/cpu_feature_guard.cc:210] This TensorFlow binary is optimized to use available CPU instructions in performance-critical operations.\n",
      "To enable the following instructions: AVX2 FMA, in other operations, rebuild TensorFlow with the appropriate compiler flags.\n"
     ]
    }
   ],
   "source": [
    "import matplotlib.pyplot as plt\n",
    "import pandas as pd\n",
    "import tensorflow as tf\n",
    "from tensorflow import keras\n",
    "import numpy as np\n",
    "import re"
   ]
  },
  {
   "cell_type": "code",
   "execution_count": 2,
   "id": "b9ddacec-7fb8-4f0c-8dfb-f5a273c1d9dd",
   "metadata": {},
   "outputs": [],
   "source": [
    "df = pd.read_csv(\"/Users/jameshill/PycharmProjects/bioacoustic-classifier/src/data/annotations/spectrogram_labels.csv\")\n",
    "df['filepath'] = \"/Users/jameshill/PycharmProjects/bioacoustic-classifier/data/processed/spectrogram_3s/\" + df['filename'] + \".png\""
   ]
  },
  {
   "cell_type": "code",
   "execution_count": 3,
   "id": "e83eaaff-9679-4612-a076-b1af19de284c",
   "metadata": {},
   "outputs": [
    {
     "data": {
      "image/png": "[encoded data removed]",
      "text/plain": [
       "<Figure size 640x480 with 1 Axes>"
      ]
     },
     "metadata": {},
     "output_type": "display_data"
    }
   ],
   "source": [
    "# Class balance/ imbalance\n",
    "counts = df['label'].value_counts()\n",
    "labels = counts.index.to_numpy()\n",
    "values = counts.to_numpy()\n",
    "fig, ax = plt.subplots()\n",
    "ax.bar(labels, values)\n",
    "plt.show()"
   ]
  },
  {
   "cell_type": "code",
   "execution_count": 4,
   "id": "c206670f-5034-411c-9b17-b6ecd439759a",
   "metadata": {},
   "outputs": [
    {
     "data": {
      "text/plain": [
       "{'background_noise',\n",
       " 'carrion_crow',\n",
       " 'chiffchaff',\n",
       " 'dog_barking',\n",
       " 'eurasian_skylark',\n",
       " 'metal',\n",
       " 'metallic_bang',\n",
       " 'rumble',\n",
       " 'rustling',\n",
       " 'unknown_bird_10',\n",
       " 'unknown_bird_11',\n",
       " 'unknown_bird_12',\n",
       " 'unknown_bird_13',\n",
       " 'unknown_bird_14',\n",
       " 'unknown_bird_15',\n",
       " 'unknown_bird_16',\n",
       " 'unknown_bird_17',\n",
       " 'unknown_bird_18',\n",
       " 'unknown_bird_2',\n",
       " 'unknown_bird_3',\n",
       " 'unknown_bird_4',\n",
       " 'unknown_bird_5',\n",
       " 'unknown_bird_7',\n",
       " 'unknown_bird_9',\n",
       " 'unknown_chirping',\n",
       " 'woodpigeon',\n",
       " 'wren',\n",
       " 'yellowhammer'}"
      ]
     },
     "execution_count": 4,
     "metadata": {},
     "output_type": "execute_result"
    }
   ],
   "source": [
    "# use a set as duplicates aren't permitted\n",
    "all_labels = set()\n",
    "for loc in df['label']:\n",
    "    species = loc.split('_and_')\n",
    "    all_labels.update(species)\n",
    "all_labels"
   ]
  },
  {
   "cell_type": "code",
   "execution_count": 5,
   "id": "e9c3e433-3069-4fb7-af22-0c6324e90edd",
   "metadata": {},
   "outputs": [],
   "source": [
    "df['split_labels'] = df['label'].str.split('_and_')"
   ]
  },
  {
   "cell_type": "code",
   "execution_count": 6,
   "id": "f11fb468-6a1b-47f4-a4ea-9db121d0f91b",
   "metadata": {},
   "outputs": [],
   "source": [
    "from sklearn.preprocessing import MultiLabelBinarizer\n",
    "\n",
    "mle = MultiLabelBinarizer() \n",
    "multi_labels = mle.fit_transform(df['split_labels'])"
   ]
  },
  {
   "cell_type": "code",
   "execution_count": 10,
   "id": "7685e8da-03a8-47e5-8fc5-c3c55e194ba4",
   "metadata": {},
   "outputs": [],
   "source": [
    "from sklearn.model_selection import train_test_split\n",
    "\n",
    "# Get arrays\n",
    "filepaths = df['filepath'].values\n",
    "labels = multi_labels\n",
    "\n",
    "# Define preprocessing function\n",
    "# Preprocessing needed as saving the images as PNGs and then reloading them with decode_png\n",
    "# This can result in unforeseen issues, so this function adjusts these as a failsafe\n",
    "def decode_image(filename, label):\n",
    "    image = tf.io.read_file(filename)\n",
    "    image = tf.image.decode_png(image, channels=3)\n",
    "    image = tf.image.resize(image, [64, 512])\n",
    "    image = tf.cast(image, tf.float32) / 255.0\n",
    "    return image, label\n",
    "\n",
    "# This is where to implement data augmentation\n",
    "# First, define a set of functions for roll, warping, noise addition\n",
    "# Next, detect which classes need upsampling\n",
    "# Duplicate these until they match the size of the most common class\n",
    "# Apply (randomly) 3 of the 4 possible augmentation techniques to each upsampled instance\n",
    "\n",
    "# Train-test split\n",
    "train_paths, test_paths, train_labels, test_labels = train_test_split(\n",
    "    filepaths, labels, test_size=0.2, random_state=1929\n",
    ")\n",
    "\n",
    "# Further split for validation set\n",
    "training_paths, validation_paths, training_labels, validation_labels = train_test_split(\n",
    "    train_paths, train_labels, test_size=0.1,random_state=1929\n",
    ")\n",
    "\n",
    "# Create datasets\n",
    "train_ds = tf.data.Dataset.from_tensor_slices((training_paths, training_labels))\n",
    "train_ds = train_ds.map(decode_image).shuffle(100).batch(32)\n",
    "\n",
    "valid_ds = tf.data.Dataset.from_tensor_slices((validation_paths, validation_labels))\n",
    "valid_ds = valid_ds.map(decode_image).batch(32)\n",
    "\n",
    "test_ds = tf.data.Dataset.from_tensor_slices((test_paths, test_labels))\n",
    "test_ds = test_ds.map(decode_image).batch(32)"
   ]
  },
  {
   "cell_type": "code",
   "execution_count": 12,
   "id": "3370329e-9b8e-43ea-ab5d-118dede89fec",
   "metadata": {},
   "outputs": [
    {
     "name": "stdout",
     "output_type": "stream",
     "text": [
      "Epoch 1/10\n",
      "\u001b[1m27/27\u001b[0m \u001b[32m━━━━━━━━━━━━━━━━━━━━\u001b[0m\u001b[37m\u001b[0m \u001b[1m11s\u001b[0m 338ms/step - auc_2: 0.3489 - binary_accuracy: 0.8865 - loss: 0.2238 - precision_2: 0.2468 - recall_2: 0.3799 - val_auc_2: 0.3584 - val_binary_accuracy: 0.9624 - val_loss: 0.1121 - val_precision_2: 0.8837 - val_recall_2: 0.2836\n",
      "Epoch 2/10\n",
      "\u001b[1m27/27\u001b[0m \u001b[32m━━━━━━━━━━━━━━━━━━━━\u001b[0m\u001b[37m\u001b[0m \u001b[1m12s\u001b[0m 438ms/step - auc_2: 0.5017 - binary_accuracy: 0.9699 - loss: 0.0853 - precision_2: 0.8133 - recall_2: 0.4595 - val_auc_2: 0.3759 - val_binary_accuracy: 0.9676 - val_loss: 0.1047 - val_precision_2: 0.7765 - val_recall_2: 0.4925\n",
      "Epoch 3/10\n",
      "\u001b[1m27/27\u001b[0m \u001b[32m━━━━━━━━━━━━━━━━━━━━\u001b[0m\u001b[37m\u001b[0m \u001b[1m13s\u001b[0m 429ms/step - auc_2: 0.5938 - binary_accuracy: 0.9728 - loss: 0.0764 - precision_2: 0.8472 - recall_2: 0.5140 - val_auc_2: 0.3675 - val_binary_accuracy: 0.9673 - val_loss: 0.1037 - val_precision_2: 0.7556 - val_recall_2: 0.5075\n",
      "Epoch 4/10\n",
      "\u001b[1m27/27\u001b[0m \u001b[32m━━━━━━━━━━━━━━━━━━━━\u001b[0m\u001b[37m\u001b[0m \u001b[1m9s\u001b[0m 319ms/step - auc_2: 0.6122 - binary_accuracy: 0.9771 - loss: 0.0630 - precision_2: 0.8501 - recall_2: 0.6180 - val_auc_2: 0.3885 - val_binary_accuracy: 0.9669 - val_loss: 0.1065 - val_precision_2: 0.7228 - val_recall_2: 0.5448\n",
      "Epoch 5/10\n",
      "\u001b[1m27/27\u001b[0m \u001b[32m━━━━━━━━━━━━━━━━━━━━\u001b[0m\u001b[37m\u001b[0m \u001b[1m9s\u001b[0m 332ms/step - auc_2: 0.6681 - binary_accuracy: 0.9788 - loss: 0.0567 - precision_2: 0.8373 - recall_2: 0.6785 - val_auc_2: 0.4174 - val_binary_accuracy: 0.9680 - val_loss: 0.1020 - val_precision_2: 0.7553 - val_recall_2: 0.5299\n",
      "Epoch 6/10\n",
      "\u001b[1m27/27\u001b[0m \u001b[32m━━━━━━━━━━━━━━━━━━━━\u001b[0m\u001b[37m\u001b[0m \u001b[1m9s\u001b[0m 324ms/step - auc_2: 0.6911 - binary_accuracy: 0.9832 - loss: 0.0458 - precision_2: 0.8675 - recall_2: 0.7516 - val_auc_2: 0.4090 - val_binary_accuracy: 0.9699 - val_loss: 0.1020 - val_precision_2: 0.8272 - val_recall_2: 0.5000\n",
      "Epoch 7/10\n",
      "\u001b[1m27/27\u001b[0m \u001b[32m━━━━━━━━━━━━━━━━━━━━\u001b[0m\u001b[37m\u001b[0m \u001b[1m9s\u001b[0m 339ms/step - auc_2: 0.7106 - binary_accuracy: 0.9878 - loss: 0.0349 - precision_2: 0.9411 - recall_2: 0.7880 - val_auc_2: 0.3993 - val_binary_accuracy: 0.9706 - val_loss: 0.1026 - val_precision_2: 0.7670 - val_recall_2: 0.5896\n",
      "Epoch 8/10\n",
      "\u001b[1m27/27\u001b[0m \u001b[32m━━━━━━━━━━━━━━━━━━━━\u001b[0m\u001b[37m\u001b[0m \u001b[1m9s\u001b[0m 326ms/step - auc_2: 0.7466 - binary_accuracy: 0.9924 - loss: 0.0246 - precision_2: 0.9529 - recall_2: 0.8816 - val_auc_2: 0.3996 - val_binary_accuracy: 0.9680 - val_loss: 0.1166 - val_precision_2: 0.7222 - val_recall_2: 0.5821\n",
      "Epoch 9/10\n",
      "\u001b[1m27/27\u001b[0m \u001b[32m━━━━━━━━━━━━━━━━━━━━\u001b[0m\u001b[37m\u001b[0m \u001b[1m10s\u001b[0m 352ms/step - auc_2: 0.7330 - binary_accuracy: 0.9957 - loss: 0.0152 - precision_2: 0.9689 - recall_2: 0.9377 - val_auc_2: 0.3846 - val_binary_accuracy: 0.9684 - val_loss: 0.1350 - val_precision_2: 0.7426 - val_recall_2: 0.5597\n",
      "Epoch 10/10\n",
      "\u001b[1m27/27\u001b[0m \u001b[32m━━━━━━━━━━━━━━━━━━━━\u001b[0m\u001b[37m\u001b[0m \u001b[1m9s\u001b[0m 335ms/step - auc_2: 0.7448 - binary_accuracy: 0.9983 - loss: 0.0097 - precision_2: 0.9836 - recall_2: 0.9805 - val_auc_2: 0.3881 - val_binary_accuracy: 0.9714 - val_loss: 0.1272 - val_precision_2: 0.8353 - val_recall_2: 0.5299\n"
     ]
    }
   ],
   "source": [
    "model = keras.Sequential()\n",
    "model.add(keras.layers.Conv2D(16, (3, 3), activation='relu', input_shape=(64, 512, 3)))\n",
    "model.add(keras.layers.MaxPooling2D((2, 2)))\n",
    "model.add(keras.layers.Conv2D(32, (3, 3), activation='relu'))\n",
    "model.add(keras.layers.MaxPooling2D((2, 2)))\n",
    "model.add(keras.layers.Flatten())\n",
    "model.add(keras.layers.Dense(128, activation='relu'))\n",
    "model.add(keras.layers.Dense(len(mle.classes_), activation='sigmoid')) # needed for multi-label classificaition\n",
    "\n",
    "\n",
    "model.compile(optimizer='adam',\n",
    "              loss='binary_crossentropy', # change to binary crossentropy\n",
    "              metrics=[\n",
    "                  keras.metrics.BinaryAccuracy(threshold=0.5),\n",
    "                  keras.metrics.Precision(thresholds=0.5),\n",
    "                  keras.metrics.Recall(thresholds=0.5),\n",
    "                  keras.metrics.AUC(curve='ROC', multi_label=True)\n",
    "              ])\n",
    "callbacks = [\n",
    "    keras.callbacks.ModelCheckpoint(\n",
    "        filepath=\"first_cnn.keras\",\n",
    "        save_best_only=True,\n",
    "        monitor=\"val_loss\")\n",
    "]\n",
    "history = model.fit(\n",
    "    train_ds, \n",
    "    epochs=10,\n",
    "    validation_data=valid_ds, \n",
    "    callbacks=callbacks\n",
    ")"
   ]
  },
  {
   "cell_type": "code",
   "execution_count": 15,
   "id": "d5327848-d748-4d19-92e2-108e15fb1c8d",
   "metadata": {},
   "outputs": [
    {
     "name": "stdout",
     "output_type": "stream",
     "text": [
      "\u001b[1m8/8\u001b[0m \u001b[32m━━━━━━━━━━━━━━━━━━━━\u001b[0m\u001b[37m\u001b[0m \u001b[1m2s\u001b[0m 82ms/step - auc_2: 0.4443 - binary_accuracy: 0.9716 - loss: 0.0791 - precision_2: 0.7019 - recall_2: 0.6124\n"
     ]
    }
   ],
   "source": [
    "test_model = keras.models.load_model(\"first_cnn.keras\")\n",
    "test_loss, test_acc, test_precision, test_recall, test_auc = test_model.evaluate(test_ds)\n",
    "#print(f\"Test accuracy: {test_acc:.3f}\")"
   ]
  },
  {
   "cell_type": "code",
   "execution_count": 16,
   "id": "a9dfab65-dd18-43fc-a892-a0fcd59041ae",
   "metadata": {},
   "outputs": [
    {
     "data": {
      "text/plain": [
       "0.9730655550956726"
      ]
     },
     "execution_count": 16,
     "metadata": {},
     "output_type": "execute_result"
    }
   ],
   "source": [
    "test_acc"
   ]
  },
  {
   "cell_type": "code",
   "execution_count": 17,
   "id": "b0253adc-40fb-4f4d-ba28-4253547f0d13",
   "metadata": {},
   "outputs": [
    {
     "data": {
      "text/plain": [
       "0.7276264429092407"
      ]
     },
     "execution_count": 17,
     "metadata": {},
     "output_type": "execute_result"
    }
   ],
   "source": [
    "test_precision"
   ]
  },
  {
   "cell_type": "code",
   "execution_count": 18,
   "id": "d573d030-7dcc-448a-95a7-4d727f0addc1",
   "metadata": {},
   "outputs": [
    {
     "data": {
      "text/plain": [
       "0.6275168061256409"
      ]
     },
     "execution_count": 18,
     "metadata": {},
     "output_type": "execute_result"
    }
   ],
   "source": [
    "test_recall"
   ]
  },
  {
   "cell_type": "code",
   "execution_count": null,
   "id": "316877d5-03f4-4975-a969-f3dcf7e1e496",
   "metadata": {},
   "outputs": [],
   "source": []
  }
 ],
 "metadata": {
  "kernelspec": {
   "display_name": "Python 3 (ipykernel)",
   "language": "python",
   "name": "python3"
  },
  "language_info": {
   "codemirror_mode": {
    "name": "ipython",
    "version": 3
   },
   "file_extension": ".py",
   "mimetype": "text/x-python",
   "name": "python",
   "nbconvert_exporter": "python",
   "pygments_lexer": "ipython3",
   "version": "3.12.0"
  }
 },
 "nbformat": 4,
 "nbformat_minor": 5
}
