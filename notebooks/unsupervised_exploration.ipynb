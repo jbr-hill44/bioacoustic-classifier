{
 "cells": [
  {
   "cell_type": "code",
   "execution_count": null,
   "id": "ac6eb419-a9b1-4ef2-9a17-1b73d5c20cb0",
   "metadata": {},
   "outputs": [],
   "source": [
    "!pip install scikit-learn"
   ]
  },
  {
   "cell_type": "code",
   "execution_count": 7,
   "id": "62358286-0652-43dd-b528-6bfa041ff5d0",
   "metadata": {},
   "outputs": [],
   "source": [
    "from scipy.io import wavfile\n",
    "import numpy as np\n",
    "import os\n",
    "from pathlib import Path\n",
    "from sklearn.decomposition import PCA"
   ]
  },
  {
   "cell_type": "code",
   "execution_count": 20,
   "id": "d74376a5-80a2-4e9e-b9a3-15321df745d8",
   "metadata": {},
   "outputs": [
    {
     "data": {
      "text/plain": [
       "PosixPath('/Users/jameshill/PycharmProjects/bioacoustic-classifier/data/processed/arrays_3s')"
      ]
     },
     "execution_count": 20,
     "metadata": {},
     "output_type": "execute_result"
    }
   ],
   "source": [
    "CURRENT_FILE = Path().resolve()\n",
    "PROJECT_ROOT = CURRENT_FILE.parents[0]  # adjust if needed\n",
    "\n",
    "npy_dir = PROJECT_ROOT / \"data\" / \"processed\" / \"arrays_3s\""
   ]
  },
  {
   "cell_type": "code",
   "execution_count": null,
   "id": "25f75e7c-be46-4812-aed6-f79f01f4d480",
   "metadata": {},
   "outputs": [],
   "source": [
    "npy_files = sorted(npy_dir.glob(\"*.npy\"))\n",
    "npy_files"
   ]
  },
  {
   "cell_type": "code",
   "execution_count": null,
   "id": "8813caac-cc8b-4e47-8b2d-d2e5fcab72b6",
   "metadata": {},
   "outputs": [],
   "source": [
    "array = []\n",
    "for file in npy_files:\n",
    "    arr = np.load(file)\n",
    "\n",
    "    desired_length = 3 * 48000 # Length of chunk * sample rate\n",
    "    if len(arr) > desired_length:\n",
    "        arr = arr[:desired_length]\n",
    "    elif len(arr) < desired_length:\n",
    "        arr = np.pad(arr, (0, desired_length - len(arr)))\n",
    "\n",
    "    array.append(arr)\n",
    "\n",
    "audio_data = np.stack(array)\n"
   ]
  },
  {
   "cell_type": "code",
   "execution_count": 23,
   "id": "b91d5f65-a5d5-4d7f-97ea-0e519cb6c821",
   "metadata": {},
   "outputs": [
    {
     "name": "stdout",
     "output_type": "stream",
     "text": [
      "Shape of feature matrix: (8380, 144000)\n"
     ]
    }
   ],
   "source": [
    "print(f\"Shape of feature matrix: {audio_data.shape}\")"
   ]
  },
  {
   "cell_type": "code",
   "execution_count": 26,
   "id": "5cc249ab-4fea-418e-bc16-582fe4d1468b",
   "metadata": {},
   "outputs": [
    {
     "data": {
      "text/plain": [
       "array([[ 2.0332217e-02, -7.0696600e-02, -3.0809509e-02, ...,\n",
       "        -1.1924381e-03,  1.5247158e-03, -3.5390225e-03],\n",
       "       [-2.1817534e-01, -2.3220657e-01,  5.4983426e-02, ...,\n",
       "         6.6325883e-04,  2.9543485e-03, -1.5441994e-03],\n",
       "       [-6.5009676e-02, -1.8807037e-01,  2.1762702e-01, ...,\n",
       "         7.9258153e-04,  1.1261210e-03,  1.4418612e-04],\n",
       "       ...,\n",
       "       [-8.7374998e-03,  1.9083643e-02,  5.8842045e-03, ...,\n",
       "        -5.2202821e-02,  2.8075581e-02,  1.6504403e-02],\n",
       "       [-1.1828619e-02,  1.3818971e-02, -5.2560394e-04, ...,\n",
       "         1.5722768e-02, -1.4823557e-02, -2.2344314e-02],\n",
       "       [-2.0300359e-02,  4.3285964e-03, -4.7404380e-03, ...,\n",
       "        -5.5767442e-03,  7.3823491e-03, -2.6060099e-02]], dtype=float32)"
      ]
     },
     "execution_count": 26,
     "metadata": {},
     "output_type": "execute_result"
    }
   ],
   "source": [
    "# Data are enormous, so attempt some dimensionality reduction\n",
    "pca = PCA(n_components = 0.9) # just to kick things off\n",
    "pca.fit_transform(audio_data) "
   ]
  },
  {
   "cell_type": "code",
   "execution_count": 28,
   "id": "21041db8-29f8-4ec1-b0f4-a1221131b6ff",
   "metadata": {},
   "outputs": [
    {
     "data": {
      "text/plain": [
       "997"
      ]
     },
     "execution_count": 28,
     "metadata": {},
     "output_type": "execute_result"
    }
   ],
   "source": [
    "pca.n_components_"
   ]
  },
  {
   "cell_type": "code",
   "execution_count": 33,
   "id": "57670347-c995-489e-854b-20817377e861",
   "metadata": {},
   "outputs": [],
   "source": [
    "audio_pca = pca.transform(audio_data) "
   ]
  },
  {
   "cell_type": "code",
   "execution_count": 34,
   "id": "435db505-8da6-4546-ab70-53a75123c3bc",
   "metadata": {},
   "outputs": [
    {
     "name": "stderr",
     "output_type": "stream",
     "text": [
      "Python(32126) MallocStackLogging: can't turn off malloc stack logging because it was not enabled.\n"
     ]
    },
    {
     "name": "stdout",
     "output_type": "stream",
     "text": [
      "Silhouette score: 0.912\n"
     ]
    }
   ],
   "source": [
    "from sklearn.cluster import KMeans\n",
    "from sklearn.metrics import silhouette_score\n",
    "\n",
    "k_means = KMeans(n_clusters=5,random_state=1929)\n",
    "labels = k_means.fit_predict(audio_pca)\n",
    "\n",
    "score = silhouette_score(audio_pca, labels)\n",
    "print(f\"Silhouette score: {score:.3f}\")"
   ]
  },
  {
   "cell_type": "code",
   "execution_count": 35,
   "id": "5be70d78-9bcc-4120-96dc-80ddd5491f79",
   "metadata": {},
   "outputs": [
    {
     "name": "stdout",
     "output_type": "stream",
     "text": [
      "Cluster 0 samples:\n",
      "20240611_050000_chunk_000.npy\n",
      "20240611_050000_chunk_001.npy\n",
      "20240611_050000_chunk_002.npy\n",
      "20240611_050000_chunk_003.npy\n",
      "20240611_050000_chunk_004.npy\n",
      "20240611_050000_chunk_005.npy\n",
      "20240611_050000_chunk_006.npy\n",
      "20240611_050000_chunk_007.npy\n",
      "20240611_050000_chunk_008.npy\n",
      "20240611_050000_chunk_009.npy\n",
      "Cluster 1 samples:\n",
      "20240611_050000_chunk_1003.npy\n",
      "Cluster 2 samples:\n",
      "20240611_050000_chunk_016.npy\n",
      "Cluster 3 samples:\n",
      "20240611_063000_chunk_315.npy\n",
      "Cluster 4 samples:\n",
      "20240611_050000_chunk_1171.npy\n"
     ]
    }
   ],
   "source": [
    "for cluster_id in range(5):\n",
    "    print(f\"Cluster {cluster_id} samples:\")\n",
    "    sample_files = [f for f, lbl in zip(npy_files, labels) if lbl == cluster_id][:10]\n",
    "    for file in sample_files:\n",
    "        print(file.name)\n"
   ]
  },
  {
   "cell_type": "code",
   "execution_count": 36,
   "id": "1e746310-276f-453c-a386-95889c978bab",
   "metadata": {},
   "outputs": [
    {
     "name": "stdout",
     "output_type": "stream",
     "text": [
      "Cluster 0: 8376 samples\n",
      "Cluster 1: 1 samples\n",
      "Cluster 2: 1 samples\n",
      "Cluster 3: 1 samples\n",
      "Cluster 4: 1 samples\n"
     ]
    }
   ],
   "source": [
    "from collections import Counter\n",
    "import numpy as np\n",
    "\n",
    "# Assuming 'labels' is from your kmeans clustering\n",
    "counts = Counter(labels)\n",
    "for cluster_id, count in sorted(counts.items()):\n",
    "    print(f\"Cluster {cluster_id}: {count} samples\")\n"
   ]
  },
  {
   "cell_type": "code",
   "execution_count": 51,
   "id": "c0267e9b-a82a-4736-abb0-c25476ffe8fa",
   "metadata": {},
   "outputs": [
    {
     "name": "stdout",
     "output_type": "stream",
     "text": [
      "Silhouette score: 0.912\n"
     ]
    }
   ],
   "source": [
    "# NEXT STEP: Try KMeans again with 20 clusters\n",
    "k_means20 = KMeans(n_clusters=20,random_state=1929)\n",
    "labels20 = k_means20.fit_predict(audio_pca)\n",
    "\n",
    "score20 = silhouette_score(audio_pca, labels20)\n",
    "print(f\"Silhouette score: {score:.3f}\")"
   ]
  },
  {
   "cell_type": "code",
   "execution_count": 52,
   "id": "4fd9205c-a4af-494b-bb98-0d00eb1c35a2",
   "metadata": {},
   "outputs": [
    {
     "name": "stdout",
     "output_type": "stream",
     "text": [
      "Cluster 0 samples:\n",
      "20240611_050000_chunk_003.npy\n",
      "20240611_050000_chunk_006.npy\n",
      "20240611_050000_chunk_018.npy\n",
      "20240611_050000_chunk_022.npy\n",
      "20240611_050000_chunk_024.npy\n",
      "20240611_050000_chunk_025.npy\n",
      "20240611_050000_chunk_027.npy\n",
      "20240611_050000_chunk_029.npy\n",
      "20240611_050000_chunk_046.npy\n",
      "20240611_050000_chunk_056.npy\n",
      "Cluster 1 samples:\n",
      "20240611_050000_chunk_1003.npy\n",
      "Cluster 2 samples:\n",
      "20240611_063000_chunk_315.npy\n",
      "Cluster 3 samples:\n",
      "20240611_050000_chunk_1171.npy\n",
      "Cluster 4 samples:\n",
      "20240611_050000_chunk_028.npy\n",
      "Cluster 5 samples:\n",
      "20240611_063000_chunk_309.npy\n",
      "Cluster 6 samples:\n",
      "20240611_063000_chunk_272.npy\n",
      "Cluster 7 samples:\n",
      "20240611_050000_chunk_001.npy\n",
      "Cluster 8 samples:\n",
      "20240611_050000_chunk_1106.npy\n",
      "Cluster 9 samples:\n",
      "20240611_050000_chunk_122.npy\n",
      "Cluster 10 samples:\n",
      "20240611_063000_chunk_316.npy\n",
      "Cluster 11 samples:\n",
      "20240611_050000_chunk_116.npy\n",
      "Cluster 12 samples:\n",
      "20240611_050000_chunk_303.npy\n",
      "Cluster 13 samples:\n",
      "20240611_050000_chunk_019.npy\n",
      "Cluster 14 samples:\n",
      "20240611_050000_chunk_004.npy\n",
      "Cluster 15 samples:\n",
      "20240611_063000_chunk_265.npy\n",
      "Cluster 16 samples:\n",
      "20240611_050000_chunk_000.npy\n",
      "20240611_050000_chunk_002.npy\n",
      "20240611_050000_chunk_005.npy\n",
      "20240611_050000_chunk_007.npy\n",
      "20240611_050000_chunk_008.npy\n",
      "20240611_050000_chunk_009.npy\n",
      "20240611_050000_chunk_010.npy\n",
      "20240611_050000_chunk_011.npy\n",
      "20240611_050000_chunk_012.npy\n",
      "20240611_050000_chunk_013.npy\n",
      "Cluster 17 samples:\n",
      "20240611_050000_chunk_747.npy\n",
      "Cluster 18 samples:\n",
      "20240611_050000_chunk_296.npy\n",
      "Cluster 19 samples:\n",
      "20240611_050000_chunk_301.npy\n",
      "Cluster 20 samples:\n",
      "Cluster 21 samples:\n",
      "Cluster 22 samples:\n",
      "Cluster 23 samples:\n",
      "Cluster 24 samples:\n",
      "Cluster 25 samples:\n",
      "Cluster 26 samples:\n",
      "Cluster 27 samples:\n",
      "Cluster 28 samples:\n",
      "Cluster 29 samples:\n",
      "Cluster 30 samples:\n",
      "Cluster 31 samples:\n",
      "Cluster 32 samples:\n",
      "Cluster 33 samples:\n",
      "Cluster 34 samples:\n",
      "Cluster 35 samples:\n",
      "Cluster 36 samples:\n",
      "Cluster 37 samples:\n",
      "Cluster 38 samples:\n",
      "Cluster 39 samples:\n",
      "Cluster 40 samples:\n",
      "Cluster 41 samples:\n",
      "Cluster 42 samples:\n",
      "Cluster 43 samples:\n",
      "Cluster 44 samples:\n",
      "Cluster 45 samples:\n",
      "Cluster 46 samples:\n",
      "Cluster 47 samples:\n",
      "Cluster 48 samples:\n",
      "Cluster 49 samples:\n"
     ]
    }
   ],
   "source": [
    "for cluster_id in range(50):\n",
    "    print(f\"Cluster {cluster_id} samples:\")\n",
    "    sample_files = [f for f, lbl in zip(npy_files, labels20) if lbl == cluster_id][:10]\n",
    "    for file in sample_files:\n",
    "        print(file.name)"
   ]
  },
  {
   "cell_type": "code",
   "execution_count": 42,
   "id": "f8acecbe-60be-4591-935b-c2f44163bdfb",
   "metadata": {},
   "outputs": [
    {
     "name": "stdout",
     "output_type": "stream",
     "text": [
      "Cluster 0: 8376 samples\n",
      "Cluster 1: 1 samples\n",
      "Cluster 2: 1 samples\n",
      "Cluster 3: 1 samples\n",
      "Cluster 4: 1 samples\n"
     ]
    }
   ],
   "source": [
    "label_counts20 = Counter(labels20)\n",
    "for cluster_id, count in sorted(label_counts20.items()):\n",
    "    print(f\"Cluster {cluster_id}: {count} samples\")\n"
   ]
  },
  {
   "cell_type": "code",
   "execution_count": 43,
   "id": "bcfb1781-2cc9-4af6-b85c-0de72666f8f4",
   "metadata": {},
   "outputs": [
    {
     "data": {
      "image/png": "[encoded data removed]",
      "text/plain": [
       "<Figure size 800x600 with 1 Axes>"
      ]
     },
     "metadata": {},
     "output_type": "display_data"
    }
   ],
   "source": [
    "import matplotlib.pyplot as plt\n",
    "\n",
    "pca_vis = PCA(n_components=2)\n",
    "audio_vis = pca_vis.fit_transform(audio_data)\n",
    "\n",
    "plt.figure(figsize=(8, 6))\n",
    "plt.scatter(audio_vis[:, 0], audio_vis[:, 1], s=2, alpha=0.5)\n",
    "plt.title(\"2D PCA projection of audio data\")\n",
    "plt.xlabel(\"PC1\")\n",
    "plt.ylabel(\"PC2\")\n",
    "plt.show()"
   ]
  },
  {
   "cell_type": "code",
   "execution_count": 44,
   "id": "d8a92375-4322-4c29-8f47-342982deba2b",
   "metadata": {},
   "outputs": [
    {
     "data": {
      "image/png": "[encoded data removed]",
      "text/plain": [
       "<Figure size 640x480 with 1 Axes>"
      ]
     },
     "metadata": {},
     "output_type": "display_data"
    }
   ],
   "source": [
    "plt.plot(np.cumsum(pca.explained_variance_ratio_))\n",
    "plt.xlabel(\"Number of components\")\n",
    "plt.ylabel(\"Cumulative explained variance\")\n",
    "plt.grid(True)\n",
    "plt.title(\"PCA Explained Variance\")\n",
    "plt.show()"
   ]
  },
  {
   "cell_type": "code",
   "execution_count": 45,
   "id": "df3d7fd1-2dad-40e1-9d87-11a6081c8a53",
   "metadata": {},
   "outputs": [],
   "source": [
    "pca_80 = PCA(n_components=350, random_state=1929)\n",
    "audio_pca_80 = pca_80.fit_transform(audio_data)"
   ]
  },
  {
   "cell_type": "code",
   "execution_count": 46,
   "id": "2ddc2717-686d-4ccc-8baa-a8bdd064b736",
   "metadata": {},
   "outputs": [
    {
     "data": {
      "image/png": "[encoded data removed]",
      "text/plain": [
       "<Figure size 800x600 with 1 Axes>"
      ]
     },
     "metadata": {},
     "output_type": "display_data"
    }
   ],
   "source": [
    "plt.figure(figsize=(8, 6))\n",
    "plt.scatter(audio_pca_80[:, 0], audio_pca_80[:, 1], s=2, alpha=0.5)\n",
    "plt.title(\"2D PCA projection of audio data\")\n",
    "plt.xlabel(\"PC1\")\n",
    "plt.ylabel(\"PC2\")\n",
    "plt.show()"
   ]
  },
  {
   "cell_type": "code",
   "execution_count": 49,
   "id": "df410712-8e46-48b1-940a-4435f9eb9422",
   "metadata": {},
   "outputs": [
    {
     "name": "stdout",
     "output_type": "stream",
     "text": [
      "Silhouette score: 0.942\n"
     ]
    }
   ],
   "source": [
    "# NEXT STEP: Try KMeans again with 20 clusters\n",
    "k_means10 = KMeans(n_clusters=10,random_state=1929)\n",
    "labels10 = k_means10.fit_predict(audio_pca_80)\n",
    "\n",
    "score10 = silhouette_score(audio_pca_80, labels10)\n",
    "print(f\"Silhouette score: {score10:.3f}\")"
   ]
  },
  {
   "cell_type": "code",
   "execution_count": 50,
   "id": "d6b8da7e-2ab0-45a6-96a4-0080a659543d",
   "metadata": {},
   "outputs": [
    {
     "name": "stdout",
     "output_type": "stream",
     "text": [
      "Cluster 0 samples:\n",
      "20240611_050000_chunk_000.npy\n",
      "20240611_050000_chunk_001.npy\n",
      "20240611_050000_chunk_002.npy\n",
      "20240611_050000_chunk_003.npy\n",
      "20240611_050000_chunk_004.npy\n",
      "20240611_050000_chunk_005.npy\n",
      "20240611_050000_chunk_006.npy\n",
      "20240611_050000_chunk_007.npy\n",
      "20240611_050000_chunk_008.npy\n",
      "20240611_050000_chunk_009.npy\n",
      "Cluster 1 samples:\n",
      "20240611_050000_chunk_1003.npy\n",
      "Cluster 2 samples:\n",
      "20240611_063000_chunk_315.npy\n",
      "Cluster 3 samples:\n",
      "20240611_050000_chunk_1171.npy\n",
      "Cluster 4 samples:\n",
      "20240611_063000_chunk_267.npy\n",
      "Cluster 5 samples:\n",
      "20240611_050000_chunk_125.npy\n",
      "Cluster 6 samples:\n",
      "20240611_063000_chunk_307.npy\n",
      "Cluster 7 samples:\n",
      "20240611_063000_chunk_316.npy\n",
      "Cluster 8 samples:\n",
      "20240611_063000_chunk_270.npy\n",
      "Cluster 9 samples:\n",
      "20240611_050000_chunk_1106.npy\n"
     ]
    }
   ],
   "source": [
    "for cluster_id in range(10):\n",
    "    print(f\"Cluster {cluster_id} samples:\")\n",
    "    sample_files = [f for f, lbl in zip(npy_files, labels10) if lbl == cluster_id][:10]\n",
    "    for file in sample_files:\n",
    "        print(file.name)"
   ]
  },
  {
   "cell_type": "code",
   "execution_count": 54,
   "id": "4977e9f9-fbb7-4a4f-9f8d-d22b74d8e876",
   "metadata": {},
   "outputs": [
    {
     "name": "stdout",
     "output_type": "stream",
     "text": [
      "Cluster 0: 8371 samples\n",
      "Cluster 1: 1 samples\n",
      "Cluster 2: 1 samples\n",
      "Cluster 3: 1 samples\n",
      "Cluster 4: 1 samples\n",
      "Cluster 5: 1 samples\n",
      "Cluster 6: 1 samples\n",
      "Cluster 7: 1 samples\n",
      "Cluster 8: 1 samples\n",
      "Cluster 9: 1 samples\n"
     ]
    }
   ],
   "source": [
    "label_counts10 = Counter(labels10)\n",
    "for cluster_id, count in sorted(label_counts10.items()):\n",
    "    print(f\"Cluster {cluster_id}: {count} samples\")"
   ]
  }
 ],
 "metadata": {
  "kernelspec": {
   "display_name": "Python 3 (ipykernel)",
   "language": "python",
   "name": "python3"
  },
  "language_info": {
   "codemirror_mode": {
    "name": "ipython",
    "version": 3
   },
   "file_extension": ".py",
   "mimetype": "text/x-python",
   "name": "python",
   "nbconvert_exporter": "python",
   "pygments_lexer": "ipython3",
   "version": "3.12.0"
  }
 },
 "nbformat": 4,
 "nbformat_minor": 5
}
