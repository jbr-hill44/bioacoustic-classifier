{
 "cells": [
  {
   "cell_type": "code",
   "execution_count": 20,
   "id": "3661db9b-1409-49e7-b498-3eabcff0c3aa",
   "metadata": {},
   "outputs": [],
   "source": [
    "def solution(board, moves):\n",
    "    # create representation of board\n",
    "    grid = [list(row) for row in board]\n",
    "    R, C = len(grid), len(grid[0])\n",
    "    print(R,C)\n",
    "    r, c = 0, 0\n",
    "    move_code = {'D': (1,0), 'U': (-1,0), 'R': (0,1), 'L': (0,-1)}\n",
    "    # loop through moves, repeats K times\n",
    "    for move in moves:\n",
    "    # candiate move: alter position depending on item in moves\n",
    "        code_r, code_c = move_code.get(move, (0,0))\n",
    "        print('moves:',code_r, code_c)\n",
    "        cand_r, cand_c = r + code_r, c + code_c\n",
    "        print('cands:',cand_r, cand_c)\n",
    "        print('grid_pos:',grid[cand_r][cand_c])\n",
    "        if 0 <= cand_r < R & 0 <= cand_c < C & grid[cand_r][cand_c] == '.':\n",
    "            r, c = cand_r, cand_c\n",
    "            print('new:',r,c)\n",
    "    return [r,c]"
   ]
  },
  {
   "cell_type": "code",
   "execution_count": 21,
   "id": "3d717dc9-b323-4d99-8a8a-6477f8b64297",
   "metadata": {},
   "outputs": [
    {
     "name": "stdout",
     "output_type": "stream",
     "text": [
      "3 3\n",
      "moves: 1 0\n",
      "cands: 1 0\n",
      "grid_pos: .\n",
      "moves: 1 0\n",
      "cands: 1 0\n",
      "grid_pos: .\n",
      "moves: -1 0\n",
      "cands: -1 0\n",
      "grid_pos: .\n",
      "moves: 0 1\n",
      "cands: 0 1\n",
      "grid_pos: .\n",
      "moves: 0 1\n",
      "cands: 0 1\n",
      "grid_pos: .\n",
      "moves: 0 1\n",
      "cands: 0 1\n",
      "grid_pos: .\n"
     ]
    },
    {
     "data": {
      "text/plain": [
       "[0, 0]"
      ]
     },
     "execution_count": 21,
     "metadata": {},
     "output_type": "execute_result"
    }
   ],
   "source": [
    "solution(['...', '...', '...'], 'DDURRR')"
   ]
  },
  {
   "cell_type": "code",
   "execution_count": 3,
   "id": "b77fd638-b301-4c23-9f75-96f11e9023d8",
   "metadata": {},
   "outputs": [],
   "source": [
    "board = ['...', '...', '...']\n",
    "moves = 'DDURRR'"
   ]
  },
  {
   "cell_type": "code",
   "execution_count": 4,
   "id": "a5920e5f-878c-437c-bffa-961e47284517",
   "metadata": {},
   "outputs": [],
   "source": [
    "grid = [list(row) for row in board]"
   ]
  },
  {
   "cell_type": "code",
   "execution_count": 5,
   "id": "afdb81a4-e34e-4a7b-b061-1d25b0d1d01b",
   "metadata": {},
   "outputs": [
    {
     "data": {
      "text/plain": [
       "[['.', '.', '.'], ['.', '.', '.'], ['.', '.', '.']]"
      ]
     },
     "execution_count": 5,
     "metadata": {},
     "output_type": "execute_result"
    }
   ],
   "source": [
    "grid"
   ]
  },
  {
   "cell_type": "code",
   "execution_count": 6,
   "id": "6927feb5-f3af-4cf2-9b6c-87b1979b0fed",
   "metadata": {},
   "outputs": [
    {
     "data": {
      "text/plain": [
       "(3, 3)"
      ]
     },
     "execution_count": 6,
     "metadata": {},
     "output_type": "execute_result"
    }
   ],
   "source": [
    "R, C = len(grid), len(grid[0])\n",
    "R, C"
   ]
  },
  {
   "cell_type": "code",
   "execution_count": 7,
   "id": "ad0cca3f-2a51-4932-b2c0-6ae8a87f91ae",
   "metadata": {},
   "outputs": [],
   "source": [
    "move_code = {'D': (1,0), 'U': (-1,0), 'R': (0,1), 'L': (0,-1)}"
   ]
  },
  {
   "cell_type": "code",
   "execution_count": null,
   "id": "35af3c6d-0ab2-4634-9344-10802a100812",
   "metadata": {},
   "outputs": [],
   "source": []
  }
 ],
 "metadata": {
  "kernelspec": {
   "display_name": "Python 3 (ipykernel)",
   "language": "python",
   "name": "python3"
  },
  "language_info": {
   "codemirror_mode": {
    "name": "ipython",
    "version": 3
   },
   "file_extension": ".py",
   "mimetype": "text/x-python",
   "name": "python",
   "nbconvert_exporter": "python",
   "pygments_lexer": "ipython3",
   "version": "3.12.0"
  }
 },
 "nbformat": 4,
 "nbformat_minor": 5
}
