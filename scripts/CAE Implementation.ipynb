{
 "cells": [
  {
   "cell_type": "code",
   "execution_count": 1,
   "id": "77c7f018-a1bb-4a98-8ad2-367ab42a3afc",
   "metadata": {},
   "outputs": [
    {
     "name": "stderr",
     "output_type": "stream",
     "text": [
      "2025-09-07 12:02:09.333684: I tensorflow/core/platform/cpu_feature_guard.cc:210] This TensorFlow binary is optimized to use available CPU instructions in performance-critical operations.\n",
      "To enable the following instructions: AVX2 FMA, in other operations, rebuild TensorFlow with the appropriate compiler flags.\n"
     ]
    }
   ],
   "source": [
    "import matplotlib\n",
    "import os\n",
    "import sys\n",
    "matplotlib.use('TkAgg')\n",
    "%matplotlib inline\n",
    "import matplotlib.pyplot as plt\n",
    "import pandas as pd\n",
    "import tensorflow as tf\n",
    "from tensorflow import keras\n",
    "from keras import layers\n",
    "import numpy as np\n",
    "from sklearn.preprocessing import MultiLabelBinarizer\n",
    "from sklearn.metrics import average_precision_score\n",
    "from iterstrat.ml_stratifiers import MultilabelStratifiedShuffleSplit\n",
    "from importlib import reload\n",
    "sys.path.append(os.path.abspath(\"..\"))\n",
    "import src.data_processing.data_augmentation as daug\n",
    "import src.models.CNN as CNN\n",
    "reload(CNN)\n",
    "from src.models.active_learning_kcluster import kCenterGreedy"
   ]
  },
  {
   "cell_type": "code",
   "execution_count": 2,
   "id": "ea5830fd-6830-43ba-a0ad-880168cacba6",
   "metadata": {},
   "outputs": [],
   "source": [
    "# Read in data\n",
    "df = pd.read_csv(\"/Users/jameshill/PycharmProjects/bioacoustic-classifier/src/data/annotations/spectrogram_labels.csv\")\n",
    "df['filepath'] = \"/Users/jameshill/PycharmProjects/bioacoustic-classifier/data/processed/spectrogram_3s/\" + df['filename'] + \".png\"\n",
    "df['split_labels'] = df['label'].str.split('_and_')"
   ]
  },
  {
   "cell_type": "code",
   "execution_count": 3,
   "id": "9213dd75-d159-4a9e-89ea-9c8c004a95da",
   "metadata": {},
   "outputs": [],
   "source": [
    "# Get arrays\n",
    "filepaths = df['filepath'].values\n",
    "# Initialise and fit multi-label encoder\n",
    "mle = MultiLabelBinarizer()\n",
    "multi_labels = mle.fit_transform(df['split_labels'])\n",
    "labels = multi_labels\n",
    "cnn = CNN.define_cnn(mle.classes_)\n",
    "assert cnn.output_shape[-1] == len(mle.classes_)"
   ]
  },
  {
   "cell_type": "code",
   "execution_count": 7,
   "id": "679467f8-1876-41ba-ae62-308510498713",
   "metadata": {},
   "outputs": [
    {
     "data": {
      "text/plain": [
       "array(['background_noise', 'blackcap', 'bluetit', 'carrion_crow',\n",
       "       'chiffchaff', 'common_whitethroat', 'dog_barking', 'dunnock',\n",
       "       'eurasian_skylar', 'eurasian_skylark', 'pheasant', 'unknown_bird',\n",
       "       'unknown_bird_10', 'unknown_bird_11_12', 'unknown_bird_12',\n",
       "       'unknown_bird_12_13', 'unknown_bird_13', 'unknown_bird_14',\n",
       "       'unknown_bird_15', 'unknown_bird_15_13', 'unknown_bird_16',\n",
       "       'unknown_bird_17', 'unknown_bird_18', 'unknown_bird_2',\n",
       "       'unknown_bird_3', 'unknown_bird_4', 'unknown_bird_5',\n",
       "       'unknown_bird_9', 'woodpigeon', 'wren', 'yellowhammer',\n",
       "       'yellowhammer_blackcap'], dtype=object)"
      ]
     },
     "execution_count": 7,
     "metadata": {},
     "output_type": "execute_result"
    }
   ],
   "source": [
    "mle.classes_"
   ]
  },
  {
   "cell_type": "code",
   "execution_count": null,
   "id": "92b6bcfd-0b76-4bd6-bd35-a250a3e8a5bd",
   "metadata": {},
   "outputs": [],
   "source": [
    "def conv_encoder(input_shape=(64,512,1)):\n",
    "    inp = keras.Input(shape=input_shape)\n",
    "    x = layers.Conv2D(32, 3, padding=\"same\", activation=\"relu\")(inp)\n",
    "    x = layers.MaxPooling2D(2)(x)             # 32x256\n",
    "    x = layers.Conv2D(64, 3, padding=\"same\", activation=\"relu\")(x)\n",
    "    x = layers.MaxPooling2D(2)(x)             # 16x128\n",
    "    x = layers.Conv2D(128, 3, padding=\"same\", activation=\"relu\")(x)\n",
    "    x = layers.MaxPooling2D(2)(x)             # 8x64\n",
    "    x = layers.Conv2D(256, 3, padding=\"same\", activation=\"relu\",\n",
    "                      kernel_regularizer=keras.regularizers.l2(1e-4))(x)\n",
    "    # Bottleneck is a **feature map** (8x64x256), not GAP\n",
    "    return keras.Model(inp, x, name=\"conv_encoder\")"
   ]
  },
  {
   "cell_type": "code",
   "execution_count": null,
   "id": "4c5dd110-a219-4e4e-abd1-8d091a982b71",
   "metadata": {},
   "outputs": [],
   "source": [
    "def build_cae(input_shape=(64,512,1)):\n",
    "    enc = conv_encoder(input_shape)\n",
    "    z   = enc.output                     # (8,64,256)\n",
    "\n",
    "    x = layers.UpSampling2D((2,2))(z)    # 16x128\n",
    "    x = layers.Conv2D(128, 3, padding=\"same\", activation=\"relu\")(x)\n",
    "    x = layers.UpSampling2D((2,2))(x)    # 32x256\n",
    "    x = layers.Conv2D(64, 3, padding=\"same\", activation=\"relu\")(x)\n",
    "    x = layers.UpSampling2D((2,2))(x)    # 64x512\n",
    "    x = layers.Conv2D(32, 3, padding=\"same\", activation=\"relu\")(x)\n",
    "    out = layers.Conv2D(1, 3, padding=\"same\", activation=\"sigmoid\")(x)\n",
    "\n",
    "    cae = keras.Model(enc.input, out, name=\"cae\")\n",
    "    return cae, enc\n"
   ]
  }
 ],
 "metadata": {
  "kernelspec": {
   "display_name": "Python 3 (ipykernel)",
   "language": "python",
   "name": "python3"
  },
  "language_info": {
   "codemirror_mode": {
    "name": "ipython",
    "version": 3
   },
   "file_extension": ".py",
   "mimetype": "text/x-python",
   "name": "python",
   "nbconvert_exporter": "python",
   "pygments_lexer": "ipython3",
   "version": "3.12.0"
  }
 },
 "nbformat": 4,
 "nbformat_minor": 5
}
